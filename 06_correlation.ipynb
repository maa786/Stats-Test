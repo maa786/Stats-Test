{
 "cells": [
  {
   "cell_type": "markdown",
   "id": "f10c3fd1",
   "metadata": {},
   "source": [
    "# Correlation"
   ]
  },
  {
   "cell_type": "markdown",
   "id": "2386a817",
   "metadata": {},
   "source": [
    "- What is correlation?\n",
    "- Variable within a dataset can be related for lots of reasons.\n",
    "- Types:\n",
    "    - Pearson's R\n",
    "    - Spearman's rho\n",
    "    - Kendalls tau\n",
    "    \n",
    "    \n",
    "### For example:\n",
    "    1. One variable could cause or depend on the values of another variable.\n",
    "    2. One variable could be lightly associated with another variable.\n",
    "    3. TWO variable could depend on a third unknown variable.\n",
    "    \n",
    "    \n",
    "**Positive Correlation:** both variables change in the same direction.\\\n",
    "**Neutral Correlation:** No relationship in the change of the variable.\\\n",
    "**Negative Correlation:** variables change in the opposite direction."
   ]
  },
  {
   "cell_type": "code",
   "execution_count": null,
   "id": "229fd853",
   "metadata": {},
   "outputs": [],
   "source": []
  }
 ],
 "metadata": {
  "kernelspec": {
   "display_name": "Python 3 (ipykernel)",
   "language": "python",
   "name": "python3"
  },
  "language_info": {
   "codemirror_mode": {
    "name": "ipython",
    "version": 3
   },
   "file_extension": ".py",
   "mimetype": "text/x-python",
   "name": "python",
   "nbconvert_exporter": "python",
   "pygments_lexer": "ipython3",
   "version": "3.9.7"
  }
 },
 "nbformat": 4,
 "nbformat_minor": 5
}
